{
 "cells": [
  {
   "cell_type": "markdown",
   "id": "4d0704e3",
   "metadata": {
    "papermill": {
     "duration": 0.008879,
     "end_time": "2025-02-28T14:00:32.450174",
     "exception": false,
     "start_time": "2025-02-28T14:00:32.441295",
     "status": "completed"
    },
    "tags": []
   },
   "source": [
    "Zatürre çok yaygın bir hastalıktır. Çeşitleri vardır: 1) Bakteriyel pnömoni 2) Viral Pnömoni 3) Mycoplasma pnömonisi ve 4) Fungal pnömoni. Bu veri kümesi ilk iki sınıfa ait pnömoni örneklerinden oluşmaktadır. Veri kümesi sadece çok az sayıda örnekten oluşmaktadır ve bu da dengesizdir. Bu çalışmanın amacı, bu sınırlı miktardaki veri üzerinde sıfırdan bir derin öğrenme modeli geliştirmektir. "
   ]
  },
  {
   "cell_type": "markdown",
   "id": "b12b995f",
   "metadata": {
    "papermill": {
     "duration": 0.007502,
     "end_time": "2025-02-28T14:00:32.466123",
     "exception": false,
     "start_time": "2025-02-28T14:00:32.458621",
     "status": "completed"
    },
    "tags": []
   },
   "source": [
    "**Veri Ön İşleme**"
   ]
  },
  {
   "cell_type": "code",
   "execution_count": 1,
   "id": "dfe7c2f2",
   "metadata": {
    "execution": {
     "iopub.execute_input": "2025-02-28T14:00:32.484285Z",
     "iopub.status.busy": "2025-02-28T14:00:32.483952Z",
     "iopub.status.idle": "2025-02-28T14:00:32.510408Z",
     "shell.execute_reply": "2025-02-28T14:00:32.509214Z"
    },
    "papermill": {
     "duration": 0.037569,
     "end_time": "2025-02-28T14:00:32.512265",
     "exception": false,
     "start_time": "2025-02-28T14:00:32.474696",
     "status": "completed"
    },
    "tags": []
   },
   "outputs": [
    {
     "name": "stdout",
     "output_type": "stream",
     "text": [
      " chest_xray:\n",
      "      val\n",
      "      test\n",
      "      train\n",
      " val:\n",
      "      PNEUMONIA\n",
      "      NORMAL\n",
      " test:\n",
      "      PNEUMONIA\n",
      "      NORMAL\n",
      " train:\n",
      "      PNEUMONIA\n",
      "      NORMAL\n"
     ]
    }
   ],
   "source": [
    "import os\n",
    "\n",
    "# Veri setinin yolu\n",
    "data_dir = \"/kaggle/input/chest-xray-pneumonia/chest_xray\"\n",
    "\n",
    "# Klasör içeriğini listeleme fonksiyonu (Ana dizindeki klasörleri listeler, ancak '__MACOSX' klasörünü hariç tutar)\n",
    "folders = [f for f in os.listdir(data_dir) if os.path.isdir(os.path.join(data_dir, f)) and f != '__MACOSX'] # '__MACOSX', macOS'ta ZIP dosyalarıyla oluşan ve genellikle gereksiz meta veriler içeren bir sistem klasörüdür.\n",
    "\n",
    "# Klasör isimlerini ve alt klasörlerini yazdırma\n",
    "for folder in folders:\n",
    "    print(f\" {folder}:\")\n",
    "    folder_path = os.path.join(data_dir, folder)\n",
    "    \n",
    "    # Alt klasörleri listele\n",
    "    subfolders = [subfolder for subfolder in os.listdir(folder_path) if os.path.isdir(os.path.join(folder_path, subfolder))]\n",
    "    \n",
    "    for subfolder in subfolders:\n",
    "        print(f\"      {subfolder}\")"
   ]
  },
  {
   "cell_type": "markdown",
   "id": "4b079953",
   "metadata": {
    "papermill": {
     "duration": 0.007649,
     "end_time": "2025-02-28T14:00:32.528269",
     "exception": false,
     "start_time": "2025-02-28T14:00:32.520620",
     "status": "completed"
    },
    "tags": []
   },
   "source": [
    "Veri setimizde üç ana klasör bulunmaktadır: 'train' (Eğitim), 'test' (Test) ve 'val' (Doğrulama). Her bir ana klasörde, 'NORMAL' ve 'PNEUMONIA' adlı alt klasörler bulunmakta ve bu alt klasörlerde görseller yer almaktadır. Her bir görselin bulunduğu klasöre göre, 'NORMAL' klasöründeki görseller normal (sağlıklı) bireylere aitken, 'PNEUMONIA' klasöründeki görseller ise zatürre (hastalık) olan bireylere aittir."
   ]
  },
  {
   "cell_type": "code",
   "execution_count": 2,
   "id": "478064bb",
   "metadata": {
    "execution": {
     "iopub.execute_input": "2025-02-28T14:00:32.545454Z",
     "iopub.status.busy": "2025-02-28T14:00:32.545009Z",
     "iopub.status.idle": "2025-02-28T14:00:32.663458Z",
     "shell.execute_reply": "2025-02-28T14:00:32.662105Z"
    },
    "papermill": {
     "duration": 0.129173,
     "end_time": "2025-02-28T14:00:32.665307",
     "exception": false,
     "start_time": "2025-02-28T14:00:32.536134",
     "status": "completed"
    },
    "tags": []
   },
   "outputs": [
    {
     "name": "stdout",
     "output_type": "stream",
     "text": [
      " chest_xray\n",
      "      val - 0 images\n",
      "      test - 0 images\n",
      "      train - 0 images\n",
      " val\n",
      "      PNEUMONIA - 8 images\n",
      "      NORMAL - 8 images\n",
      " test\n",
      "      PNEUMONIA - 390 images\n",
      "      NORMAL - 234 images\n",
      " train\n",
      "      PNEUMONIA - 3875 images\n",
      "      NORMAL - 1341 images\n"
     ]
    }
   ],
   "source": [
    "import os\n",
    "\n",
    "# Veri setinin yolu\n",
    "data_dir = \"/kaggle/input/chest-xray-pneumonia/chest_xray\"\n",
    "\n",
    "# Klasör içeriğini listeleme fonksiyonu\n",
    "\n",
    "folders = [f for f in os.listdir(data_dir) if os.path.isdir(os.path.join(data_dir, f)) and f != '__MACOSX']\n",
    "\n",
    "# Klasör isimlerini, alt klasörlerini ve görsel sayısını yazdırma\n",
    "for folder in folders:\n",
    "    print(f\" {folder}\")\n",
    "    folder_path = os.path.join(data_dir, folder)\n",
    "    \n",
    "    # Alt klasörleri listele\n",
    "    subfolders = [subfolder for subfolder in os.listdir(folder_path) if os.path.isdir(os.path.join(folder_path, subfolder))]\n",
    "    \n",
    "    for subfolder in subfolders:\n",
    "        subfolder_path = os.path.join(folder_path, subfolder)\n",
    "        \n",
    "        # Alt klasördeki görsel dosyalarını say\n",
    "        image_files = [f for f in os.listdir(subfolder_path) if f.lower().endswith(('.png', '.jpg', '.jpeg'))]\n",
    "        print(f\"      {subfolder} - {len(image_files)} images\")"
   ]
  },
  {
   "cell_type": "markdown",
   "id": "49facf07",
   "metadata": {
    "papermill": {
     "duration": 0.007638,
     "end_time": "2025-02-28T14:00:32.681388",
     "exception": false,
     "start_time": "2025-02-28T14:00:32.673750",
     "status": "completed"
    },
    "tags": []
   },
   "source": [
    "val, test, train klasörleri yalnızda alt klasörlerden oluşmaktadır. Görseller alt klasörlerin içerisinde yer almaktadır."
   ]
  },
  {
   "cell_type": "code",
   "execution_count": 3,
   "id": "13d4ffd7",
   "metadata": {
    "execution": {
     "iopub.execute_input": "2025-02-28T14:00:32.699835Z",
     "iopub.status.busy": "2025-02-28T14:00:32.699440Z",
     "iopub.status.idle": "2025-02-28T14:00:33.713659Z",
     "shell.execute_reply": "2025-02-28T14:00:33.712297Z"
    },
    "papermill": {
     "duration": 1.02556,
     "end_time": "2025-02-28T14:00:33.715679",
     "exception": false,
     "start_time": "2025-02-28T14:00:32.690119",
     "status": "completed"
    },
    "tags": []
   },
   "outputs": [
    {
     "name": "stdout",
     "output_type": "stream",
     "text": [
      "                                          image_path      label\n",
      "0  /kaggle/input/chest-xray-pneumonia/chest_xray/...  PNEUMONIA\n",
      "1  /kaggle/input/chest-xray-pneumonia/chest_xray/...  PNEUMONIA\n",
      "2  /kaggle/input/chest-xray-pneumonia/chest_xray/...  PNEUMONIA\n",
      "3  /kaggle/input/chest-xray-pneumonia/chest_xray/...  PNEUMONIA\n",
      "4  /kaggle/input/chest-xray-pneumonia/chest_xray/...  PNEUMONIA\n"
     ]
    }
   ],
   "source": [
    "import os\n",
    "import pandas as pd\n",
    "from PIL import Image\n",
    "\n",
    "# Veri dizinleri\n",
    "train_dir = \"/kaggle/input/chest-xray-pneumonia/chest_xray/train/\"\n",
    "val_dir = \"/kaggle/input/chest-xray-pneumonia/chest_xray/val/\"\n",
    "test_dir = \"/kaggle/input/chest-xray-pneumonia/chest_xray/test/\"\n",
    "\n",
    "# Verileri bir DataFrame'e yükleme\n",
    "def load_data(directory):\n",
    "    data = []\n",
    "    for label in os.listdir(directory):\n",
    "        label_dir = os.path.join(directory, label)\n",
    "        for image_file in os.listdir(label_dir):\n",
    "            image_path = os.path.join(label_dir, image_file)\n",
    "            data.append((image_path, label))\n",
    "    return pd.DataFrame(data, columns=[\"image_path\", \"label\"])\n",
    "\n",
    "train_df = load_data(train_dir)\n",
    "test_df = load_data(test_dir)\n",
    "val_df = load_data(val_dir)\n",
    "\n",
    "# İlk birkaç satırı göster\n",
    "print(train_df.head())"
   ]
  },
  {
   "cell_type": "code",
   "execution_count": 4,
   "id": "731e7d3e",
   "metadata": {
    "execution": {
     "iopub.execute_input": "2025-02-28T14:00:33.734567Z",
     "iopub.status.busy": "2025-02-28T14:00:33.734034Z",
     "iopub.status.idle": "2025-02-28T14:00:34.431256Z",
     "shell.execute_reply": "2025-02-28T14:00:34.430086Z"
    },
    "papermill": {
     "duration": 0.708446,
     "end_time": "2025-02-28T14:00:34.433202",
     "exception": false,
     "start_time": "2025-02-28T14:00:33.724756",
     "status": "completed"
    },
    "tags": []
   },
   "outputs": [
    {
     "data": {
      "image/png": "[encoded data removed]",
      "text/plain": [
       "<Figure size 1800x600 with 3 Axes>"
      ]
     },
     "metadata": {},
     "output_type": "display_data"
    }
   ],
   "source": [
    "import matplotlib.pyplot as plt\n",
    "\n",
    "def visualize_label_distribution(train_df, test_df, val_df):\n",
    "    # Etiket sayılarını hesapla\n",
    "    train_label_counts = train_df[\"label\"].value_counts()\n",
    "    test_label_counts = test_df[\"label\"].value_counts()\n",
    "    val_label_counts = val_df[\"label\"].value_counts()\n",
    "\n",
    "    # Grafik için figür ve eksenler oluştur\n",
    "    fig, axes = plt.subplots(1, 3, figsize=(18, 6))  # Figür boyutunu biraz büyüttük\n",
    "\n",
    "    # Renkler\n",
    "    colors = {'NORMAL': 'skyblue', 'PNEUMONIA': 'lightgreen'}\n",
    "\n",
    "    # Train verisi için bar grafiği\n",
    "    axes[0].bar(train_label_counts.index, train_label_counts.values, color=[colors[label] for label in train_label_counts.index])\n",
    "    axes[0].set_xlabel(\"Label\")\n",
    "    axes[0].set_ylabel(\"Count\")\n",
    "    axes[0].set_title(\"Train Data Label Distribution\", pad=20)  # Başlık ile grafik arasına boşluk ekledik\n",
    "    # Grafiğin üzerine etiket sayılarını yaz\n",
    "    axes[0].text(0.5, 1.2, str(train_label_counts), transform=axes[0].transAxes, ha='center', va='center', fontsize=12, color='black', bbox=dict(facecolor='white', alpha=0.5, edgecolor='black'))\n",
    "\n",
    "    # Test verisi için bar grafiği\n",
    "    axes[1].bar(test_label_counts.index, test_label_counts.values, color=[colors[label] for label in test_label_counts.index])\n",
    "    axes[1].set_xlabel(\"Label\")\n",
    "    axes[1].set_ylabel(\"Count\")\n",
    "    axes[1].set_title(\"Test Data Label Distribution\", pad=20)  # Başlık ile grafik arasına boşluk ekledik\n",
    "    # Grafiğin üzerine etiket sayılarını yaz\n",
    "    axes[1].text(0.5, 1.2, str(test_label_counts), transform=axes[1].transAxes, ha='center', va='center', fontsize=12, color='black', bbox=dict(facecolor='white', alpha=0.5, edgecolor='black'))\n",
    "\n",
    "    # Validation verisi için bar grafiği\n",
    "    axes[2].bar(val_label_counts.index, val_label_counts.values, color=[colors[label] for label in val_label_counts.index])\n",
    "    axes[2].set_xlabel(\"Label\")\n",
    "    axes[2].set_ylabel(\"Count\")\n",
    "    axes[2].set_title(\"Validation Data Label Distribution\", pad=20)  # Başlık ile grafik arasına boşluk ekledik\n",
    "    # Grafiğin üzerine etiket sayılarını yaz\n",
    "    axes[2].text(0.5, 1.2, str(val_label_counts), transform=axes[2].transAxes, ha='center', va='center', fontsize=12, color='black', bbox=dict(facecolor='white', alpha=0.5, edgecolor='black'))\n",
    "\n",
    "    # Grafikleri göster\n",
    "    plt.tight_layout()\n",
    "    plt.show()\n",
    "\n",
    "# Etiket dağılımını görselleştirme\n",
    "visualize_label_distribution(train_df, test_df, val_df)"
   ]
  },
  {
   "cell_type": "markdown",
   "id": "11dc19d2",
   "metadata": {
    "papermill": {
     "duration": 0.00909,
     "end_time": "2025-02-28T14:00:34.451961",
     "exception": false,
     "start_time": "2025-02-28T14:00:34.442871",
     "status": "completed"
    },
    "tags": []
   },
   "source": [
    "Veriler dengesiz. Train setinde NORMAL sınıfı 3875 görsele; Test setinde NORMAL sınıfı 390 görsele tamamlanmalı."
   ]
  },
  {
   "cell_type": "code",
   "execution_count": 5,
   "id": "63a19481",
   "metadata": {
    "execution": {
     "iopub.execute_input": "2025-02-28T14:00:34.472376Z",
     "iopub.status.busy": "2025-02-28T14:00:34.472022Z",
     "iopub.status.idle": "2025-02-28T14:00:35.351611Z",
     "shell.execute_reply": "2025-02-28T14:00:35.350292Z"
    },
    "papermill": {
     "duration": 0.891435,
     "end_time": "2025-02-28T14:00:35.353198",
     "exception": false,
     "start_time": "2025-02-28T14:00:34.461763",
     "status": "completed"
    },
    "tags": []
   },
   "outputs": [
    {
     "name": "stdout",
     "output_type": "stream",
     "text": [
      "1341x1704\n",
      "1634x1956\n",
      "1144x1588\n",
      "2534x2890\n",
      "2012x2512\n",
      "1248x1604\n",
      "1654x1790\n",
      "1360x1666\n",
      "1480x1762\n",
      "1441x1654\n"
     ]
    }
   ],
   "source": [
    "import os\n",
    "import cv2\n",
    "import random\n",
    "\n",
    "# Görsellerin bulunduğu dizin\n",
    "input_dir = '/kaggle/input/chest-xray-pneumonia/chest_xray/train/NORMAL/'  # Kendi dizininizi buraya girin\n",
    "\n",
    "# Dizindeki tüm görselleri al\n",
    "image_files = [f for f in os.listdir(input_dir) if f.endswith(('.jpg', '.jpeg', '.png', '.bmp'))]\n",
    "\n",
    "# Rastgele 10 görsel seç\n",
    "random_images = random.sample(image_files, 10)\n",
    "\n",
    "# Her bir görselin boyutlarını yazdır\n",
    "for image_file in random_images:\n",
    "    image_path = os.path.join(input_dir, image_file)\n",
    "    \n",
    "    # Görseli yükle\n",
    "    image = cv2.imread(image_path)\n",
    "    \n",
    "    # Görselin boyutlarını al (yükseklik, genişlik)\n",
    "    height, width = image.shape[:2]\n",
    "    \n",
    "    # Boyutları ekrana yazdır\n",
    "    print(f\"{height}x{width}\")"
   ]
  },
  {
   "cell_type": "markdown",
   "id": "777214a9",
   "metadata": {
    "papermill": {
     "duration": 0.009493,
     "end_time": "2025-02-28T14:00:35.372818",
     "exception": false,
     "start_time": "2025-02-28T14:00:35.363325",
     "status": "completed"
    },
    "tags": []
   },
   "source": [
    "Görsellerin boyutları çok büyük ve birbirinden farklı."
   ]
  },
  {
   "cell_type": "markdown",
   "id": "8f8547a7",
   "metadata": {
    "papermill": {
     "duration": 0.009164,
     "end_time": "2025-02-28T14:00:35.391746",
     "exception": false,
     "start_time": "2025-02-28T14:00:35.382582",
     "status": "completed"
    },
    "tags": []
   },
   "source": [
    "**Gürültü Giderme (Gaussian filter)**"
   ]
  },
  {
   "cell_type": "code",
   "execution_count": 6,
   "id": "b65158fd",
   "metadata": {
    "execution": {
     "iopub.execute_input": "2025-02-28T14:00:35.412375Z",
     "iopub.status.busy": "2025-02-28T14:00:35.411891Z",
     "iopub.status.idle": "2025-02-28T14:01:32.412168Z",
     "shell.execute_reply": "2025-02-28T14:01:32.410987Z"
    },
    "papermill": {
     "duration": 57.021724,
     "end_time": "2025-02-28T14:01:32.422964",
     "exception": false,
     "start_time": "2025-02-28T14:00:35.401240",
     "status": "completed"
    },
    "tags": []
   },
   "outputs": [
    {
     "name": "stdout",
     "output_type": "stream",
     "text": [
      "İşlem tamamlandı! İşlenmiş görseller /kaggle/working/chest-xray-pneumonia/chest_xray/processed_train/NORMAL/ dizinine kaydedildi.\n"
     ]
    }
   ],
   "source": [
    "import os\n",
    "import cv2\n",
    "import numpy as np\n",
    "\n",
    "# Görsellerin bulunduğu dizin ve çıktı dizini\n",
    "input_dir = '/kaggle/input/chest-xray-pneumonia/chest_xray/train/NORMAL/'  # Görsellerin bulunduğu dizin\n",
    "output_dir = '/kaggle/working/chest-xray-pneumonia/chest_xray/processed_train/NORMAL/'  # İşlenmiş görsellerin kaydedileceği dizin\n",
    "\n",
    "# Eğer çıktı dizini yoksa oluştur\n",
    "if not os.path.exists(output_dir):\n",
    "    os.makedirs(output_dir)\n",
    "\n",
    "# Dizindeki tüm görselleri al\n",
    "image_files = [f for f in os.listdir(input_dir) if f.endswith(('.jpg', '.jpeg', '.png', '.bmp'))]\n",
    "\n",
    "# Toplam görsel sayısını al\n",
    "total_images = len(image_files)\n",
    "\n",
    "# Her bir görsel üzerinde işlem yap\n",
    "for i, image_file in enumerate(image_files):\n",
    "    # Görselin tam yolunu oluştur\n",
    "    image_path = os.path.join(input_dir, image_file)\n",
    "    \n",
    "    # Görseli yükle\n",
    "    image = cv2.imread(image_path)\n",
    "    \n",
    "    # Gaussian filtresi uygula\n",
    "    gaussian_blur = cv2.GaussianBlur(image, (5, 5), 0)\n",
    "    \n",
    "    # İşlenmiş görseli kaydet\n",
    "    output_path = os.path.join(output_dir, image_file)\n",
    "    cv2.imwrite(output_path, gaussian_blur)\n",
    "\n",
    "print(f\"İşlem tamamlandı! İşlenmiş görseller {output_dir} dizinine kaydedildi.\")"
   ]
  },
  {
   "cell_type": "code",
   "execution_count": 7,
   "id": "6f09acf5",
   "metadata": {
    "execution": {
     "iopub.execute_input": "2025-02-28T14:01:32.442670Z",
     "iopub.status.busy": "2025-02-28T14:01:32.442271Z",
     "iopub.status.idle": "2025-02-28T14:02:47.547783Z",
     "shell.execute_reply": "2025-02-28T14:02:47.546417Z"
    },
    "papermill": {
     "duration": 75.126909,
     "end_time": "2025-02-28T14:02:47.558833",
     "exception": false,
     "start_time": "2025-02-28T14:01:32.431924",
     "status": "completed"
    },
    "tags": []
   },
   "outputs": [
    {
     "name": "stdout",
     "output_type": "stream",
     "text": [
      "İşlem tamamlandı! İşlenmiş görseller /kaggle/working/chest-xray-pneumonia/chest_xray/processed_train/PNEUMONIA/ dizinine kaydedildi.\n"
     ]
    }
   ],
   "source": [
    "import os\n",
    "import cv2\n",
    "import numpy as np\n",
    "\n",
    "# Görsellerin bulunduğu dizin ve çıktı dizini\n",
    "input_dir = '/kaggle/input/chest-xray-pneumonia/chest_xray/train/PNEUMONIA/'  # Görsellerin bulunduğu dizin\n",
    "output_dir = '/kaggle/working/chest-xray-pneumonia/chest_xray/processed_train/PNEUMONIA/'  # İşlenmiş görsellerin kaydedileceği dizin\n",
    "\n",
    "# Eğer çıktı dizini yoksa oluştur\n",
    "if not os.path.exists(output_dir):\n",
    "    os.makedirs(output_dir)\n",
    "\n",
    "# Dizindeki tüm görselleri al\n",
    "image_files = [f for f in os.listdir(input_dir) if f.endswith(('.jpg', '.jpeg', '.png', '.bmp'))]\n",
    "\n",
    "# Toplam görsel sayısını al\n",
    "total_images = len(image_files)\n",
    "\n",
    "# Her bir görsel üzerinde işlem yap\n",
    "for i, image_file in enumerate(image_files):\n",
    "    # Görselin tam yolunu oluştur\n",
    "    image_path = os.path.join(input_dir, image_file)\n",
    "    \n",
    "    # Görseli yükle\n",
    "    image = cv2.imread(image_path)\n",
    "    \n",
    "    # Gaussian filtresi uygula\n",
    "    gaussian_blur = cv2.GaussianBlur(image, (5, 5), 0)\n",
    "    \n",
    "    # İşlenmiş görseli kaydet\n",
    "    output_path = os.path.join(output_dir, image_file)\n",
    "    cv2.imwrite(output_path, gaussian_blur)\n",
    "\n",
    "print(f\"İşlem tamamlandı! İşlenmiş görseller {output_dir} dizinine kaydedildi.\")"
   ]
  },
  {
   "cell_type": "code",
   "execution_count": 8,
   "id": "96fd4247",
   "metadata": {
    "execution": {
     "iopub.execute_input": "2025-02-28T14:02:47.579267Z",
     "iopub.status.busy": "2025-02-28T14:02:47.578943Z",
     "iopub.status.idle": "2025-02-28T14:02:56.312088Z",
     "shell.execute_reply": "2025-02-28T14:02:56.310805Z"
    },
    "papermill": {
     "duration": 8.745767,
     "end_time": "2025-02-28T14:02:56.314062",
     "exception": false,
     "start_time": "2025-02-28T14:02:47.568295",
     "status": "completed"
    },
    "tags": []
   },
   "outputs": [
    {
     "name": "stdout",
     "output_type": "stream",
     "text": [
      "İşlem tamamlandı! İşlenmiş görseller /kaggle/working/chest-xray-pneumonia/chest_xray/processed_test/NORMAL/ dizinine kaydedildi.\n"
     ]
    }
   ],
   "source": [
    "import os\n",
    "import cv2\n",
    "import numpy as np\n",
    "\n",
    "# Görsellerin bulunduğu dizin ve çıktı dizini\n",
    "input_dir = '/kaggle/input/chest-xray-pneumonia/chest_xray/test/NORMAL/'  # Görsellerin bulunduğu dizin\n",
    "output_dir = '/kaggle/working/chest-xray-pneumonia/chest_xray/processed_test/NORMAL/'  # İşlenmiş görsellerin kaydedileceği dizin\n",
    "\n",
    "# Eğer çıktı dizini yoksa oluştur\n",
    "if not os.path.exists(output_dir):\n",
    "    os.makedirs(output_dir)\n",
    "\n",
    "# Dizindeki tüm görselleri al\n",
    "image_files = [f for f in os.listdir(input_dir) if f.endswith(('.jpg', '.jpeg', '.png', '.bmp'))]\n",
    "\n",
    "# Toplam görsel sayısını al\n",
    "total_images = len(image_files)\n",
    "\n",
    "# Her bir görsel üzerinde işlem yap\n",
    "for i, image_file in enumerate(image_files):\n",
    "    # Görselin tam yolunu oluştur\n",
    "    image_path = os.path.join(input_dir, image_file)\n",
    "    \n",
    "    # Görseli yükle\n",
    "    image = cv2.imread(image_path)\n",
    "    \n",
    "    # Gaussian filtresi uygula\n",
    "    gaussian_blur = cv2.GaussianBlur(image, (5, 5), 0)\n",
    "    \n",
    "    # İşlenmiş görseli kaydet\n",
    "    output_path = os.path.join(output_dir, image_file)\n",
    "    cv2.imwrite(output_path, gaussian_blur)\n",
    "\n",
    "print(f\"İşlem tamamlandı! İşlenmiş görseller {output_dir} dizinine kaydedildi.\")"
   ]
  },
  {
   "cell_type": "code",
   "execution_count": 9,
   "id": "7be59284",
   "metadata": {
    "execution": {
     "iopub.execute_input": "2025-02-28T14:02:56.334677Z",
     "iopub.status.busy": "2025-02-28T14:02:56.334202Z",
     "iopub.status.idle": "2025-02-28T14:03:03.156911Z",
     "shell.execute_reply": "2025-02-28T14:03:03.155532Z"
    },
    "papermill": {
     "duration": 6.835281,
     "end_time": "2025-02-28T14:03:03.158947",
     "exception": false,
     "start_time": "2025-02-28T14:02:56.323666",
     "status": "completed"
    },
    "tags": []
   },
   "outputs": [
    {
     "name": "stdout",
     "output_type": "stream",
     "text": [
      "İşlem tamamlandı! İşlenmiş görseller /kaggle/working/chest-xray-pneumonia/chest_xray/processed_test/PNEUMONIA/ dizinine kaydedildi.\n"
     ]
    }
   ],
   "source": [
    "import os\n",
    "import cv2\n",
    "import numpy as np\n",
    "\n",
    "# Görsellerin bulunduğu dizin ve çıktı dizini\n",
    "input_dir = '/kaggle/input/chest-xray-pneumonia/chest_xray/test/PNEUMONIA/'  # Görsellerin bulunduğu dizin\n",
    "output_dir = '/kaggle/working/chest-xray-pneumonia/chest_xray/processed_test/PNEUMONIA/'  # İşlenmiş görsellerin kaydedileceği dizin\n",
    "\n",
    "# Eğer çıktı dizini yoksa oluştur\n",
    "if not os.path.exists(output_dir):\n",
    "    os.makedirs(output_dir)\n",
    "\n",
    "# Dizindeki tüm görselleri al\n",
    "image_files = [f for f in os.listdir(input_dir) if f.endswith(('.jpg', '.jpeg', '.png', '.bmp'))]\n",
    "\n",
    "# Toplam görsel sayısını al\n",
    "total_images = len(image_files)\n",
    "\n",
    "# Her bir görsel üzerinde işlem yap\n",
    "for i, image_file in enumerate(image_files):\n",
    "    # Görselin tam yolunu oluştur\n",
    "    image_path = os.path.join(input_dir, image_file)\n",
    "    \n",
    "    # Görseli yükle\n",
    "    image = cv2.imread(image_path)\n",
    "    \n",
    "    # Gaussian filtresi uygula\n",
    "    gaussian_blur = cv2.GaussianBlur(image, (5, 5), 0)\n",
    "    \n",
    "    # İşlenmiş görseli kaydet\n",
    "    output_path = os.path.join(output_dir, image_file)\n",
    "    cv2.imwrite(output_path, gaussian_blur)\n",
    "\n",
    "print(f\"İşlem tamamlandı! İşlenmiş görseller {output_dir} dizinine kaydedildi.\")"
   ]
  },
  {
   "cell_type": "code",
   "execution_count": 10,
   "id": "5fa08c4f",
   "metadata": {
    "execution": {
     "iopub.execute_input": "2025-02-28T14:03:03.179732Z",
     "iopub.status.busy": "2025-02-28T14:03:03.179352Z",
     "iopub.status.idle": "2025-02-28T14:03:03.433561Z",
     "shell.execute_reply": "2025-02-28T14:03:03.432345Z"
    },
    "papermill": {
     "duration": 0.266532,
     "end_time": "2025-02-28T14:03:03.435269",
     "exception": false,
     "start_time": "2025-02-28T14:03:03.168737",
     "status": "completed"
    },
    "tags": []
   },
   "outputs": [
    {
     "name": "stdout",
     "output_type": "stream",
     "text": [
      "İşlem tamamlandı! İşlenmiş görseller /kaggle/working/chest-xray-pneumonia/chest_xray/processed_val/NORMAL/ dizinine kaydedildi.\n"
     ]
    }
   ],
   "source": [
    "import os\n",
    "import cv2\n",
    "import numpy as np\n",
    "\n",
    "# Görsellerin bulunduğu dizin ve çıktı dizini\n",
    "input_dir = '/kaggle/input/chest-xray-pneumonia/chest_xray/val/NORMAL/'  # Görsellerin bulunduğu dizin\n",
    "output_dir = '/kaggle/working/chest-xray-pneumonia/chest_xray/processed_val/NORMAL/'  # İşlenmiş görsellerin kaydedileceği dizin\n",
    "\n",
    "# Eğer çıktı dizini yoksa oluştur\n",
    "if not os.path.exists(output_dir):\n",
    "    os.makedirs(output_dir)\n",
    "\n",
    "# Dizindeki tüm görselleri al\n",
    "image_files = [f for f in os.listdir(input_dir) if f.endswith(('.jpg', '.jpeg', '.png', '.bmp'))]\n",
    "\n",
    "# Toplam görsel sayısını al\n",
    "total_images = len(image_files)\n",
    "\n",
    "# Her bir görsel üzerinde işlem yap\n",
    "for i, image_file in enumerate(image_files):\n",
    "    # Görselin tam yolunu oluştur\n",
    "    image_path = os.path.join(input_dir, image_file)\n",
    "    \n",
    "    # Görseli yükle\n",
    "    image = cv2.imread(image_path)\n",
    "    \n",
    "    # Gaussian filtresi uygula\n",
    "    gaussian_blur = cv2.GaussianBlur(image, (5, 5), 0)\n",
    "    \n",
    "    # İşlenmiş görseli kaydet\n",
    "    output_path = os.path.join(output_dir, image_file)\n",
    "    cv2.imwrite(output_path, gaussian_blur)\n",
    "\n",
    "print(f\"İşlem tamamlandı! İşlenmiş görseller {output_dir} dizinine kaydedildi.\")"
   ]
  },
  {
   "cell_type": "code",
   "execution_count": 11,
   "id": "22a67e3b",
   "metadata": {
    "execution": {
     "iopub.execute_input": "2025-02-28T14:03:03.455727Z",
     "iopub.status.busy": "2025-02-28T14:03:03.455316Z",
     "iopub.status.idle": "2025-02-28T14:03:03.616571Z",
     "shell.execute_reply": "2025-02-28T14:03:03.615606Z"
    },
    "papermill": {
     "duration": 0.173396,
     "end_time": "2025-02-28T14:03:03.618350",
     "exception": false,
     "start_time": "2025-02-28T14:03:03.444954",
     "status": "completed"
    },
    "tags": []
   },
   "outputs": [
    {
     "name": "stdout",
     "output_type": "stream",
     "text": [
      "İşlem tamamlandı! İşlenmiş görseller /kaggle/working/chest-xray-pneumonia/chest_xray/processed_val/PNEUMONIA/ dizinine kaydedildi.\n"
     ]
    }
   ],
   "source": [
    "import os\n",
    "import cv2\n",
    "import numpy as np\n",
    "\n",
    "# Görsellerin bulunduğu dizin ve çıktı dizini\n",
    "input_dir = '/kaggle/input/chest-xray-pneumonia/chest_xray/val/PNEUMONIA/'  # Görsellerin bulunduğu dizin\n",
    "output_dir = '/kaggle/working/chest-xray-pneumonia/chest_xray/processed_val/PNEUMONIA/'  # İşlenmiş görsellerin kaydedileceği dizin\n",
    "\n",
    "# Eğer çıktı dizini yoksa oluştur\n",
    "if not os.path.exists(output_dir):\n",
    "    os.makedirs(output_dir)\n",
    "\n",
    "# Dizindeki tüm görselleri al\n",
    "image_files = [f for f in os.listdir(input_dir) if f.endswith(('.jpg', '.jpeg', '.png', '.bmp'))]\n",
    "\n",
    "# Toplam görsel sayısını al\n",
    "total_images = len(image_files)\n",
    "\n",
    "# Her bir görsel üzerinde işlem yap\n",
    "for i, image_file in enumerate(image_files):\n",
    "    # Görselin tam yolunu oluştur\n",
    "    image_path = os.path.join(input_dir, image_file)\n",
    "    \n",
    "    # Görseli yükle\n",
    "    image = cv2.imread(image_path)\n",
    "    \n",
    "    # Gaussian filtresi uygula\n",
    "    gaussian_blur = cv2.GaussianBlur(image, (5, 5), 0)\n",
    "    \n",
    "    # İşlenmiş görseli kaydet\n",
    "    output_path = os.path.join(output_dir, image_file)\n",
    "    cv2.imwrite(output_path, gaussian_blur)\n",
    "\n",
    "print(f\"İşlem tamamlandı! İşlenmiş görseller {output_dir} dizinine kaydedildi.\")"
   ]
  },
  {
   "cell_type": "markdown",
   "id": "94b104f0",
   "metadata": {
    "papermill": {
     "duration": 0.009197,
     "end_time": "2025-02-28T14:03:03.637440",
     "exception": false,
     "start_time": "2025-02-28T14:03:03.628243",
     "status": "completed"
    },
    "tags": []
   },
   "source": [
    "**CLAHE (Contrast Limited Adaptive Histogram Equalization)**"
   ]
  },
  {
   "cell_type": "code",
   "execution_count": 12,
   "id": "10b5f078",
   "metadata": {
    "execution": {
     "iopub.execute_input": "2025-02-28T14:03:03.657843Z",
     "iopub.status.busy": "2025-02-28T14:03:03.657407Z",
     "iopub.status.idle": "2025-02-28T14:03:37.790069Z",
     "shell.execute_reply": "2025-02-28T14:03:37.788910Z"
    },
    "papermill": {
     "duration": 34.154222,
     "end_time": "2025-02-28T14:03:37.801156",
     "exception": false,
     "start_time": "2025-02-28T14:03:03.646934",
     "status": "completed"
    },
    "tags": []
   },
   "outputs": [
    {
     "name": "stdout",
     "output_type": "stream",
     "text": [
      "İşlem tamamlandı! İşlenmiş görseller /kaggle/working/chest-xray-pneumonia/chest_xray/CLAHE/CLAHE_train/NORMAL/ dizinine kaydedildi.\n"
     ]
    }
   ],
   "source": [
    "import os\n",
    "import cv2\n",
    "import numpy as np\n",
    "\n",
    "# Görsellerin bulunduğu dizin ve çıktı dizini\n",
    "input_dir = '/kaggle/working/chest-xray-pneumonia/chest_xray/processed_train/NORMAL/'  # Görsellerin bulunduğu dizin\n",
    "output_dir = '/kaggle/working/chest-xray-pneumonia/chest_xray/CLAHE/CLAHE_train/NORMAL/'  # İşlenmiş görsellerin kaydedileceği dizin\n",
    "\n",
    "# Eğer çıktı dizini yoksa oluştur\n",
    "if not os.path.exists(output_dir):\n",
    "    os.makedirs(output_dir)\n",
    "\n",
    "# Dizindeki tüm görselleri al\n",
    "image_files = [f for f in os.listdir(input_dir) if f.endswith(('.jpg', '.jpeg', '.png', '.bmp'))]\n",
    "\n",
    "# Her bir görsel üzerinde işlem yap\n",
    "for image_file in image_files:\n",
    "    # Görselin tam yolunu oluştur\n",
    "    image_path = os.path.join(input_dir, image_file)\n",
    "    \n",
    "    # Görseli yükle\n",
    "    image = cv2.imread(image_path, cv2.IMREAD_GRAYSCALE)  # Gri tonlamalı olarak yükle\n",
    "    \n",
    "    # CLAHE uygula\n",
    "    clahe = cv2.createCLAHE(clipLimit=2.0, tileGridSize=(8, 8))\n",
    "    clahe_image = clahe.apply(image)\n",
    "    \n",
    "    # İşlenmiş görseli kaydet\n",
    "    output_path = os.path.join(output_dir, image_file)\n",
    "    cv2.imwrite(output_path, clahe_image)\n",
    "\n",
    "print(f\"İşlem tamamlandı! İşlenmiş görseller {output_dir} dizinine kaydedildi.\")"
   ]
  },
  {
   "cell_type": "code",
   "execution_count": 13,
   "id": "5100f072",
   "metadata": {
    "execution": {
     "iopub.execute_input": "2025-02-28T14:03:37.822195Z",
     "iopub.status.busy": "2025-02-28T14:03:37.821853Z",
     "iopub.status.idle": "2025-02-28T14:04:23.744544Z",
     "shell.execute_reply": "2025-02-28T14:04:23.743314Z"
    },
    "papermill": {
     "duration": 45.944836,
     "end_time": "2025-02-28T14:04:23.755784",
     "exception": false,
     "start_time": "2025-02-28T14:03:37.810948",
     "status": "completed"
    },
    "tags": []
   },
   "outputs": [
    {
     "name": "stdout",
     "output_type": "stream",
     "text": [
      "İşlem tamamlandı! İşlenmiş görseller /kaggle/working/chest-xray-pneumonia/chest_xray/CLAHE/CLAHE_train/PNEUMONIA/ dizinine kaydedildi.\n"
     ]
    }
   ],
   "source": [
    "import os\n",
    "import cv2\n",
    "import numpy as np\n",
    "\n",
    "# Görsellerin bulunduğu dizin ve çıktı dizini\n",
    "input_dir = '/kaggle/working/chest-xray-pneumonia/chest_xray/processed_train/PNEUMONIA/'  # Görsellerin bulunduğu dizin\n",
    "output_dir = '/kaggle/working/chest-xray-pneumonia/chest_xray/CLAHE/CLAHE_train/PNEUMONIA/'  # İşlenmiş görsellerin kaydedileceği dizin\n",
    "\n",
    "# Eğer çıktı dizini yoksa oluştur\n",
    "if not os.path.exists(output_dir):\n",
    "    os.makedirs(output_dir)\n",
    "\n",
    "# Dizindeki tüm görselleri al\n",
    "image_files = [f for f in os.listdir(input_dir) if f.endswith(('.jpg', '.jpeg', '.png', '.bmp'))]\n",
    "\n",
    "# Her bir görsel üzerinde işlem yap\n",
    "for image_file in image_files:\n",
    "    # Görselin tam yolunu oluştur\n",
    "    image_path = os.path.join(input_dir, image_file)\n",
    "    \n",
    "    # Görseli yükle\n",
    "    image = cv2.imread(image_path, cv2.IMREAD_GRAYSCALE)  # Gri tonlamalı olarak yükle\n",
    "    \n",
    "    # CLAHE uygula\n",
    "    clahe = cv2.createCLAHE(clipLimit=2.0, tileGridSize=(8, 8))\n",
    "    clahe_image = clahe.apply(image)\n",
    "    \n",
    "    # İşlenmiş görseli kaydet\n",
    "    output_path = os.path.join(output_dir, image_file)\n",
    "    cv2.imwrite(output_path, clahe_image)\n",
    "\n",
    "print(f\"İşlem tamamlandı! İşlenmiş görseller {output_dir} dizinine kaydedildi.\")"
   ]
  },
  {
   "cell_type": "code",
   "execution_count": 14,
   "id": "a8a64a60",
   "metadata": {
    "execution": {
     "iopub.execute_input": "2025-02-28T14:04:23.776188Z",
     "iopub.status.busy": "2025-02-28T14:04:23.775775Z",
     "iopub.status.idle": "2025-02-28T14:04:30.078817Z",
     "shell.execute_reply": "2025-02-28T14:04:30.077674Z"
    },
    "papermill": {
     "duration": 6.315309,
     "end_time": "2025-02-28T14:04:30.080654",
     "exception": false,
     "start_time": "2025-02-28T14:04:23.765345",
     "status": "completed"
    },
    "tags": []
   },
   "outputs": [
    {
     "name": "stdout",
     "output_type": "stream",
     "text": [
      "İşlem tamamlandı! İşlenmiş görseller /kaggle/working/chest-xray-pneumonia/chest_xray/CLAHE/CLAHE_test/NORMAL/ dizinine kaydedildi.\n"
     ]
    }
   ],
   "source": [
    "import os\n",
    "import cv2\n",
    "import numpy as np\n",
    "\n",
    "# Görsellerin bulunduğu dizin ve çıktı dizini\n",
    "input_dir = '/kaggle/working/chest-xray-pneumonia/chest_xray/processed_test/NORMAL/'  # Görsellerin bulunduğu dizin\n",
    "output_dir = '/kaggle/working/chest-xray-pneumonia/chest_xray/CLAHE/CLAHE_test/NORMAL/'  # İşlenmiş görsellerin kaydedileceği dizin\n",
    "\n",
    "# Eğer çıktı dizini yoksa oluştur\n",
    "if not os.path.exists(output_dir):\n",
    "    os.makedirs(output_dir)\n",
    "\n",
    "# Dizindeki tüm görselleri al\n",
    "image_files = [f for f in os.listdir(input_dir) if f.endswith(('.jpg', '.jpeg', '.png', '.bmp'))]\n",
    "\n",
    "# Her bir görsel üzerinde işlem yap\n",
    "for image_file in image_files:\n",
    "    # Görselin tam yolunu oluştur\n",
    "    image_path = os.path.join(input_dir, image_file)\n",
    "    \n",
    "    # Görseli yükle\n",
    "    image = cv2.imread(image_path, cv2.IMREAD_GRAYSCALE)  # Gri tonlamalı olarak yükle\n",
    "    \n",
    "    # CLAHE uygula\n",
    "    clahe = cv2.createCLAHE(clipLimit=2.0, tileGridSize=(8, 8))\n",
    "    clahe_image = clahe.apply(image)\n",
    "    \n",
    "    # İşlenmiş görseli kaydet\n",
    "    output_path = os.path.join(output_dir, image_file)\n",
    "    cv2.imwrite(output_path, clahe_image)\n",
    "\n",
    "print(f\"İşlem tamamlandı! İşlenmiş görseller {output_dir} dizinine kaydedildi.\")"
   ]
  },
  {
   "cell_type": "code",
   "execution_count": 15,
   "id": "322260a4",
   "metadata": {
    "execution": {
     "iopub.execute_input": "2025-02-28T14:04:30.113573Z",
     "iopub.status.busy": "2025-02-28T14:04:30.113157Z",
     "iopub.status.idle": "2025-02-28T14:04:34.053883Z",
     "shell.execute_reply": "2025-02-28T14:04:34.052646Z"
    },
    "papermill": {
     "duration": 3.956672,
     "end_time": "2025-02-28T14:04:34.055834",
     "exception": false,
     "start_time": "2025-02-28T14:04:30.099162",
     "status": "completed"
    },
    "tags": []
   },
   "outputs": [
    {
     "name": "stdout",
     "output_type": "stream",
     "text": [
      "İşlem tamamlandı! İşlenmiş görseller /kaggle/working/chest-xray-pneumonia/chest_xray/CLAHE/CLAHE_test/PNEUMONIA/ dizinine kaydedildi.\n"
     ]
    }
   ],
   "source": [
    "import os\n",
    "import cv2\n",
    "import numpy as np\n",
    "\n",
    "# Görsellerin bulunduğu dizin ve çıktı dizini\n",
    "input_dir = '/kaggle/working/chest-xray-pneumonia/chest_xray/processed_test/PNEUMONIA/'  # Görsellerin bulunduğu dizin\n",
    "output_dir = '/kaggle/working/chest-xray-pneumonia/chest_xray/CLAHE/CLAHE_test/PNEUMONIA/'  # İşlenmiş görsellerin kaydedileceği dizin\n",
    "\n",
    "# Eğer çıktı dizini yoksa oluştur\n",
    "if not os.path.exists(output_dir):\n",
    "    os.makedirs(output_dir)\n",
    "\n",
    "# Dizindeki tüm görselleri al\n",
    "image_files = [f for f in os.listdir(input_dir) if f.endswith(('.jpg', '.jpeg', '.png', '.bmp'))]\n",
    "\n",
    "# Her bir görsel üzerinde işlem yap\n",
    "for image_file in image_files:\n",
    "    # Görselin tam yolunu oluştur\n",
    "    image_path = os.path.join(input_dir, image_file)\n",
    "    \n",
    "    # Görseli yükle\n",
    "    image = cv2.imread(image_path, cv2.IMREAD_GRAYSCALE)  # Gri tonlamalı olarak yükle\n",
    "    \n",
    "    # CLAHE uygula\n",
    "    clahe = cv2.createCLAHE(clipLimit=2.0, tileGridSize=(8, 8))\n",
    "    clahe_image = clahe.apply(image)\n",
    "    \n",
    "    # İşlenmiş görseli kaydet\n",
    "    output_path = os.path.join(output_dir, image_file)\n",
    "    cv2.imwrite(output_path, clahe_image)\n",
    "\n",
    "print(f\"İşlem tamamlandı! İşlenmiş görseller {output_dir} dizinine kaydedildi.\")"
   ]
  },
  {
   "cell_type": "code",
   "execution_count": 16,
   "id": "258ff89f",
   "metadata": {
    "execution": {
     "iopub.execute_input": "2025-02-28T14:04:34.077784Z",
     "iopub.status.busy": "2025-02-28T14:04:34.077373Z",
     "iopub.status.idle": "2025-02-28T14:04:34.234718Z",
     "shell.execute_reply": "2025-02-28T14:04:34.233521Z"
    },
    "papermill": {
     "duration": 0.169996,
     "end_time": "2025-02-28T14:04:34.236422",
     "exception": false,
     "start_time": "2025-02-28T14:04:34.066426",
     "status": "completed"
    },
    "tags": []
   },
   "outputs": [
    {
     "name": "stdout",
     "output_type": "stream",
     "text": [
      "İşlem tamamlandı! İşlenmiş görseller /kaggle/working/chest-xray-pneumonia/chest_xray/CLAHE/CLAHE_val/NORMAL/ dizinine kaydedildi.\n"
     ]
    }
   ],
   "source": [
    "import os\n",
    "import cv2\n",
    "import numpy as np\n",
    "\n",
    "# Görsellerin bulunduğu dizin ve çıktı dizini\n",
    "input_dir = '/kaggle/working/chest-xray-pneumonia/chest_xray/processed_val/NORMAL/'  # Görsellerin bulunduğu dizin\n",
    "output_dir = '/kaggle/working/chest-xray-pneumonia/chest_xray/CLAHE/CLAHE_val/NORMAL/'  # İşlenmiş görsellerin kaydedileceği dizin\n",
    "\n",
    "# Eğer çıktı dizini yoksa oluştur\n",
    "if not os.path.exists(output_dir):\n",
    "    os.makedirs(output_dir)\n",
    "\n",
    "# Dizindeki tüm görselleri al\n",
    "image_files = [f for f in os.listdir(input_dir) if f.endswith(('.jpg', '.jpeg', '.png', '.bmp'))]\n",
    "\n",
    "# Her bir görsel üzerinde işlem yap\n",
    "for image_file in image_files:\n",
    "    # Görselin tam yolunu oluştur\n",
    "    image_path = os.path.join(input_dir, image_file)\n",
    "    \n",
    "    # Görseli yükle\n",
    "    image = cv2.imread(image_path, cv2.IMREAD_GRAYSCALE)  # Gri tonlamalı olarak yükle\n",
    "    \n",
    "    # CLAHE uygula\n",
    "    clahe = cv2.createCLAHE(clipLimit=2.0, tileGridSize=(8, 8))\n",
    "    clahe_image = clahe.apply(image)\n",
    "    \n",
    "    # İşlenmiş görseli kaydet\n",
    "    output_path = os.path.join(output_dir, image_file)\n",
    "    cv2.imwrite(output_path, clahe_image)\n",
    "\n",
    "print(f\"İşlem tamamlandı! İşlenmiş görseller {output_dir} dizinine kaydedildi.\")"
   ]
  },
  {
   "cell_type": "code",
   "execution_count": 17,
   "id": "d95b7c99",
   "metadata": {
    "execution": {
     "iopub.execute_input": "2025-02-28T14:04:34.257903Z",
     "iopub.status.busy": "2025-02-28T14:04:34.257541Z",
     "iopub.status.idle": "2025-02-28T14:04:34.353464Z",
     "shell.execute_reply": "2025-02-28T14:04:34.352209Z"
    },
    "papermill": {
     "duration": 0.108742,
     "end_time": "2025-02-28T14:04:34.355189",
     "exception": false,
     "start_time": "2025-02-28T14:04:34.246447",
     "status": "completed"
    },
    "tags": []
   },
   "outputs": [
    {
     "name": "stdout",
     "output_type": "stream",
     "text": [
      "İşlem tamamlandı! İşlenmiş görseller /kaggle/working/chest-xray-pneumonia/chest_xray/CLAHE/CLAHE_val/PNEUMONIA/ dizinine kaydedildi.\n"
     ]
    }
   ],
   "source": [
    "import os\n",
    "import cv2\n",
    "import numpy as np\n",
    "\n",
    "# Görsellerin bulunduğu dizin ve çıktı dizini\n",
    "input_dir = '/kaggle/working/chest-xray-pneumonia/chest_xray/processed_val/PNEUMONIA/'  # Görsellerin bulunduğu dizin\n",
    "output_dir = '/kaggle/working/chest-xray-pneumonia/chest_xray/CLAHE/CLAHE_val/PNEUMONIA/'  # İşlenmiş görsellerin kaydedileceği dizin\n",
    "\n",
    "# Eğer çıktı dizini yoksa oluştur\n",
    "if not os.path.exists(output_dir):\n",
    "    os.makedirs(output_dir)\n",
    "\n",
    "# Dizindeki tüm görselleri al\n",
    "image_files = [f for f in os.listdir(input_dir) if f.endswith(('.jpg', '.jpeg', '.png', '.bmp'))]\n",
    "\n",
    "# Her bir görsel üzerinde işlem yap\n",
    "for image_file in image_files:\n",
    "    # Görselin tam yolunu oluştur\n",
    "    image_path = os.path.join(input_dir, image_file)\n",
    "    \n",
    "    # Görseli yükle\n",
    "    image = cv2.imread(image_path, cv2.IMREAD_GRAYSCALE)  # Gri tonlamalı olarak yükle\n",
    "    \n",
    "    # CLAHE uygula\n",
    "    clahe = cv2.createCLAHE(clipLimit=2.0, tileGridSize=(8, 8))\n",
    "    clahe_image = clahe.apply(image)\n",
    "    \n",
    "    # İşlenmiş görseli kaydet\n",
    "    output_path = os.path.join(output_dir, image_file)\n",
    "    cv2.imwrite(output_path, clahe_image)\n",
    "\n",
    "print(f\"İşlem tamamlandı! İşlenmiş görseller {output_dir} dizinine kaydedildi.\")"
   ]
  },
  {
   "cell_type": "markdown",
   "id": "7b36d166",
   "metadata": {
    "papermill": {
     "duration": 0.009631,
     "end_time": "2025-02-28T14:04:34.374872",
     "exception": false,
     "start_time": "2025-02-28T14:04:34.365241",
     "status": "completed"
    },
    "tags": []
   },
   "source": [
    "**Sentetik veri üreterek dengesiz sınıfları dengeleme**"
   ]
  },
  {
   "cell_type": "code",
   "execution_count": 18,
   "id": "78c05ae1",
   "metadata": {
    "execution": {
     "iopub.execute_input": "2025-02-28T14:04:34.396316Z",
     "iopub.status.busy": "2025-02-28T14:04:34.395907Z",
     "iopub.status.idle": "2025-02-28T14:23:48.576295Z",
     "shell.execute_reply": "2025-02-28T14:23:48.574745Z"
    },
    "papermill": {
     "duration": 1154.207644,
     "end_time": "2025-02-28T14:23:48.592402",
     "exception": false,
     "start_time": "2025-02-28T14:04:34.384758",
     "status": "completed"
    },
    "tags": []
   },
   "outputs": [
    {
     "name": "stdout",
     "output_type": "stream",
     "text": [
      "Veri artırma tamamlandı. NORMAL sınıfı 3875 görsele tamamlandı.\n"
     ]
    }
   ],
   "source": [
    "import tensorflow as tf\n",
    "from tensorflow.keras.preprocessing.image import ImageDataGenerator\n",
    "import numpy as np\n",
    "import cv2\n",
    "import os\n",
    "\n",
    "# Kullanılacak klasör\n",
    "folder_path = '/kaggle/working/chest-xray-pneumonia/chest_xray/CLAHE/CLAHE_train/NORMAL/'  # NORMAL görüntülerin olduğu klasör\n",
    "\n",
    "# Mevcut ve hedef görüntü sayıları\n",
    "current_count = len(os.listdir(folder_path))\n",
    "target_count = 3875  # PNEUMONIA ile eşitlemek için\n",
    "num_needed = target_count - current_count  # Kaç yeni görüntü üretilecek?\n",
    "\n",
    "# Eğer zaten hedefe ulaşılmışsa işlem yapma\n",
    "if num_needed <= 0:\n",
    "    print(f\"Zaten {target_count} veya daha fazla görüntü var, veri artırmaya gerek yok.\")\n",
    "    exit()\n",
    "\n",
    "# Veri artırma parametreleri\n",
    "datagen = ImageDataGenerator(\n",
    "    rotation_range=20,\n",
    "    width_shift_range=0.2,\n",
    "    height_shift_range=0.2,\n",
    "    shear_range=0.2,\n",
    "    zoom_range=0.2,\n",
    "    horizontal_flip=True,\n",
    "    fill_mode='nearest'\n",
    ")\n",
    "\n",
    "# Görselleri yükle\n",
    "images = os.listdir(folder_path)\n",
    "\n",
    "i = 0\n",
    "while current_count < target_count:\n",
    "    img_name = images[i % len(images)]  # Döngü ile sırayla seç\n",
    "    img_path = os.path.join(folder_path, img_name)\n",
    "    img = cv2.imread(img_path)\n",
    "    \n",
    "    if img is not None:\n",
    "        img = cv2.cvtColor(img, cv2.COLOR_BGR2RGB)\n",
    "        img = np.expand_dims(img, axis=0)\n",
    "\n",
    "        # Veri artırma\n",
    "        for batch in datagen.flow(img, batch_size=1, save_to_dir=folder_path, save_prefix=\"aug\", save_format=\"jpeg\"):\n",
    "            current_count += 1\n",
    "            i += 1\n",
    "            if current_count >= target_count:\n",
    "                break\n",
    "\n",
    "print(f\"Veri artırma tamamlandı. NORMAL sınıfı {target_count} görsele tamamlandı.\")"
   ]
  },
  {
   "cell_type": "code",
   "execution_count": 19,
   "id": "1c563e76",
   "metadata": {
    "execution": {
     "iopub.execute_input": "2025-02-28T14:23:48.617192Z",
     "iopub.status.busy": "2025-02-28T14:23:48.615659Z",
     "iopub.status.idle": "2025-02-28T14:26:08.787984Z",
     "shell.execute_reply": "2025-02-28T14:26:08.786741Z"
    },
    "papermill": {
     "duration": 140.196398,
     "end_time": "2025-02-28T14:26:08.799719",
     "exception": false,
     "start_time": "2025-02-28T14:23:48.603321",
     "status": "completed"
    },
    "tags": []
   },
   "outputs": [
    {
     "name": "stdout",
     "output_type": "stream",
     "text": [
      "Veri artırma tamamlandı. NORMAL sınıfı 390 görsele tamamlandı.\n"
     ]
    }
   ],
   "source": [
    "import tensorflow as tf\n",
    "from tensorflow.keras.preprocessing.image import ImageDataGenerator\n",
    "import numpy as np\n",
    "import cv2\n",
    "import os\n",
    "\n",
    "# Kullanılacak klasör\n",
    "folder_path = '/kaggle/working/chest-xray-pneumonia/chest_xray/CLAHE/CLAHE_test/NORMAL/'  # NORMAL görüntülerin olduğu klasör\n",
    "\n",
    "# Mevcut ve hedef görüntü sayıları\n",
    "current_count = len(os.listdir(folder_path))\n",
    "target_count = 390  # PNEUMONIA ile eşitlemek için\n",
    "num_needed = target_count - current_count  # Kaç yeni görüntü üretilecek?\n",
    "\n",
    "# Eğer zaten hedefe ulaşılmışsa işlem yapma\n",
    "if num_needed <= 0:\n",
    "    print(f\"Zaten {target_count} veya daha fazla görüntü var, veri artırmaya gerek yok.\")\n",
    "    exit()\n",
    "\n",
    "# Veri artırma parametreleri\n",
    "datagen = ImageDataGenerator(\n",
    "    rotation_range=20,\n",
    "    width_shift_range=0.2,\n",
    "    height_shift_range=0.2,\n",
    "    shear_range=0.2,\n",
    "    zoom_range=0.2,\n",
    "    horizontal_flip=True,\n",
    "    fill_mode='nearest'\n",
    ")\n",
    "\n",
    "# Görselleri yükle\n",
    "images = os.listdir(folder_path)\n",
    "\n",
    "i = 0\n",
    "while current_count < target_count:\n",
    "    img_name = images[i % len(images)]  # Döngü ile sırayla seç\n",
    "    img_path = os.path.join(folder_path, img_name)\n",
    "    img = cv2.imread(img_path)\n",
    "    \n",
    "    if img is not None:\n",
    "        img = cv2.cvtColor(img, cv2.COLOR_BGR2RGB)\n",
    "        img = np.expand_dims(img, axis=0)\n",
    "\n",
    "        # Veri artırma\n",
    "        for batch in datagen.flow(img, batch_size=1, save_to_dir=folder_path, save_prefix=\"aug\", save_format=\"jpeg\"):\n",
    "            current_count += 1\n",
    "            i += 1\n",
    "            if current_count >= target_count:\n",
    "                break\n",
    "\n",
    "print(f\"Veri artırma tamamlandı. NORMAL sınıfı {target_count} görsele tamamlandı.\")"
   ]
  },
  {
   "cell_type": "markdown",
   "id": "a66101e3",
   "metadata": {
    "papermill": {
     "duration": 0.010056,
     "end_time": "2025-02-28T14:26:08.820219",
     "exception": false,
     "start_time": "2025-02-28T14:26:08.810163",
     "status": "completed"
    },
    "tags": []
   },
   "source": [
    "Görüntü sayıları eşitlendi."
   ]
  },
  {
   "cell_type": "markdown",
   "id": "3a32e323",
   "metadata": {
    "papermill": {
     "duration": 0.010349,
     "end_time": "2025-02-28T14:26:08.840791",
     "exception": false,
     "start_time": "2025-02-28T14:26:08.830442",
     "status": "completed"
    },
    "tags": []
   },
   "source": [
    "**Görüntü boyutlarını indirgeme (224x224)**"
   ]
  },
  {
   "cell_type": "code",
   "execution_count": 20,
   "id": "9bb9bcb8",
   "metadata": {
    "execution": {
     "iopub.execute_input": "2025-02-28T14:26:08.862915Z",
     "iopub.status.busy": "2025-02-28T14:26:08.862457Z",
     "iopub.status.idle": "2025-02-28T14:28:01.880329Z",
     "shell.execute_reply": "2025-02-28T14:28:01.878695Z"
    },
    "papermill": {
     "duration": 113.044486,
     "end_time": "2025-02-28T14:28:01.895693",
     "exception": false,
     "start_time": "2025-02-28T14:26:08.851207",
     "status": "completed"
    },
    "tags": []
   },
   "outputs": [
    {
     "name": "stdout",
     "output_type": "stream",
     "text": [
      "İşlem tamamlandı: 3578 görüntü yeniden boyutlandırıldı, 0 dosya atlandı.\n"
     ]
    }
   ],
   "source": [
    "from PIL import Image\n",
    "import os\n",
    "\n",
    "def resize_image(input_path, output_path, size=(224, 224)):\n",
    "    try:\n",
    "        # Görüntüyü aç\n",
    "        with Image.open(input_path) as img:\n",
    "            # Görüntüyü yeniden boyutlandır (LANCZOS kullanarak)\n",
    "            img = img.resize(size, Image.Resampling.LANCZOS)\n",
    "            # Yeniden boyutlandırılmış görüntüyü kaydet\n",
    "            img.save(output_path)\n",
    "    except Exception as e:\n",
    "        print(f\"Hata oluştu: {e}\")\n",
    "\n",
    "def resize_images_in_directory(input_dir, output_dir, size=(224, 224)):\n",
    "    # Eğer output dizini yoksa oluştur\n",
    "    if not os.path.exists(output_dir):\n",
    "        os.makedirs(output_dir)\n",
    "\n",
    "    # İşlenen dosya sayısını takip etmek için sayaç\n",
    "    processed_files = 0\n",
    "    skipped_files = 0\n",
    "\n",
    "    # Dizin içindeki tüm dosyaları listele\n",
    "    for filename in os.listdir(input_dir):\n",
    "        # Dosya yolunu oluştur\n",
    "        input_image_path = os.path.join(input_dir, filename)\n",
    "        output_image_path = os.path.join(output_dir, filename)\n",
    "\n",
    "        # Sadece geçerli görüntü dosyalarını işle (örneğin .jpg, .png)\n",
    "        if filename.lower().endswith(('.png', '.jpg', '.jpeg', '.bmp', '.gif')):\n",
    "            resize_image(input_image_path, output_image_path, size)\n",
    "            processed_files += 1\n",
    "        else:\n",
    "            skipped_files += 1\n",
    "\n",
    "    # İşlem tamamlandığında özet bilgi yazdır\n",
    "    print(f\"İşlem tamamlandı: {processed_files} görüntü yeniden boyutlandırıldı, {skipped_files} dosya atlandı.\")\n",
    "\n",
    "# Örnek kullanım\n",
    "input_image_dir = \"/kaggle/working/chest-xray-pneumonia/chest_xray/CLAHE/CLAHE_train/NORMAL/\"\n",
    "output_image_dir = \"/kaggle/working/chest-xray-pneumonia/chest_xray/resized-CLAHED-train/NORMAL/\"\n",
    "resize_images_in_directory(input_image_dir, output_image_dir)"
   ]
  },
  {
   "cell_type": "code",
   "execution_count": 21,
   "id": "588f14e0",
   "metadata": {
    "execution": {
     "iopub.execute_input": "2025-02-28T14:28:01.933986Z",
     "iopub.status.busy": "2025-02-28T14:28:01.933605Z",
     "iopub.status.idle": "2025-02-28T14:28:53.714367Z",
     "shell.execute_reply": "2025-02-28T14:28:53.713053Z"
    },
    "papermill": {
     "duration": 51.811605,
     "end_time": "2025-02-28T14:28:53.725968",
     "exception": false,
     "start_time": "2025-02-28T14:28:01.914363",
     "status": "completed"
    },
    "tags": []
   },
   "outputs": [
    {
     "name": "stdout",
     "output_type": "stream",
     "text": [
      "İşlem tamamlandı: 3875 görüntü yeniden boyutlandırıldı, 0 dosya atlandı.\n"
     ]
    }
   ],
   "source": [
    "from PIL import Image\n",
    "import os\n",
    "\n",
    "def resize_image(input_path, output_path, size=(224, 224)):\n",
    "    try:\n",
    "        # Görüntüyü aç\n",
    "        with Image.open(input_path) as img:\n",
    "            # Görüntüyü yeniden boyutlandır (LANCZOS kullanarak)\n",
    "            img = img.resize(size, Image.Resampling.LANCZOS)\n",
    "            # Yeniden boyutlandırılmış görüntüyü kaydet\n",
    "            img.save(output_path)\n",
    "    except Exception as e:\n",
    "        print(f\"Hata oluştu: {e}\")\n",
    "\n",
    "def resize_images_in_directory(input_dir, output_dir, size=(224, 224)):\n",
    "    # Eğer output dizini yoksa oluştur\n",
    "    if not os.path.exists(output_dir):\n",
    "        os.makedirs(output_dir)\n",
    "\n",
    "    # İşlenen dosya sayısını takip etmek için sayaç\n",
    "    processed_files = 0\n",
    "    skipped_files = 0\n",
    "\n",
    "    # Dizin içindeki tüm dosyaları listele\n",
    "    for filename in os.listdir(input_dir):\n",
    "        # Dosya yolunu oluştur\n",
    "        input_image_path = os.path.join(input_dir, filename)\n",
    "        output_image_path = os.path.join(output_dir, filename)\n",
    "\n",
    "        # Sadece geçerli görüntü dosyalarını işle (örneğin .jpg, .png)\n",
    "        if filename.lower().endswith(('.png', '.jpg', '.jpeg', '.bmp', '.gif')):\n",
    "            resize_image(input_image_path, output_image_path, size)\n",
    "            processed_files += 1\n",
    "        else:\n",
    "            skipped_files += 1\n",
    "\n",
    "    # İşlem tamamlandığında özet bilgi yazdır\n",
    "    print(f\"İşlem tamamlandı: {processed_files} görüntü yeniden boyutlandırıldı, {skipped_files} dosya atlandı.\")\n",
    "\n",
    "# Örnek kullanım\n",
    "input_image_dir = \"/kaggle/working/chest-xray-pneumonia/chest_xray/CLAHE/CLAHE_train/PNEUMONIA/\"\n",
    "output_image_dir = \"/kaggle/working/chest-xray-pneumonia/chest_xray/resized-CLAHED-train/PNEUMONIA/\"\n",
    "resize_images_in_directory(input_image_dir, output_image_dir)"
   ]
  },
  {
   "cell_type": "code",
   "execution_count": 22,
   "id": "562b875a",
   "metadata": {
    "execution": {
     "iopub.execute_input": "2025-02-28T14:28:53.747698Z",
     "iopub.status.busy": "2025-02-28T14:28:53.747281Z",
     "iopub.status.idle": "2025-02-28T14:29:09.513952Z",
     "shell.execute_reply": "2025-02-28T14:29:09.512487Z"
    },
    "papermill": {
     "duration": 15.780096,
     "end_time": "2025-02-28T14:29:09.516243",
     "exception": false,
     "start_time": "2025-02-28T14:28:53.736147",
     "status": "completed"
    },
    "tags": []
   },
   "outputs": [
    {
     "name": "stdout",
     "output_type": "stream",
     "text": [
      "İşlem tamamlandı: 389 görüntü yeniden boyutlandırıldı, 0 dosya atlandı.\n"
     ]
    }
   ],
   "source": [
    "from PIL import Image\n",
    "import os\n",
    "\n",
    "def resize_image(input_path, output_path, size=(224, 224)):\n",
    "    try:\n",
    "        # Görüntüyü aç\n",
    "        with Image.open(input_path) as img:\n",
    "            # Görüntüyü yeniden boyutlandır (LANCZOS kullanarak)\n",
    "            img = img.resize(size, Image.Resampling.LANCZOS)\n",
    "            # Yeniden boyutlandırılmış görüntüyü kaydet\n",
    "            img.save(output_path)\n",
    "    except Exception as e:\n",
    "        print(f\"Hata oluştu: {e}\")\n",
    "\n",
    "def resize_images_in_directory(input_dir, output_dir, size=(224, 224)):\n",
    "    # Eğer output dizini yoksa oluştur\n",
    "    if not os.path.exists(output_dir):\n",
    "        os.makedirs(output_dir)\n",
    "\n",
    "    # İşlenen dosya sayısını takip etmek için sayaç\n",
    "    processed_files = 0\n",
    "    skipped_files = 0\n",
    "\n",
    "    # Dizin içindeki tüm dosyaları listele\n",
    "    for filename in os.listdir(input_dir):\n",
    "        # Dosya yolunu oluştur\n",
    "        input_image_path = os.path.join(input_dir, filename)\n",
    "        output_image_path = os.path.join(output_dir, filename)\n",
    "\n",
    "        # Sadece geçerli görüntü dosyalarını işle (örneğin .jpg, .png)\n",
    "        if filename.lower().endswith(('.png', '.jpg', '.jpeg', '.bmp', '.gif')):\n",
    "            resize_image(input_image_path, output_image_path, size)\n",
    "            processed_files += 1\n",
    "        else:\n",
    "            skipped_files += 1\n",
    "\n",
    "    # İşlem tamamlandığında özet bilgi yazdır\n",
    "    print(f\"İşlem tamamlandı: {processed_files} görüntü yeniden boyutlandırıldı, {skipped_files} dosya atlandı.\")\n",
    "\n",
    "# Örnek kullanım\n",
    "input_image_dir = \"/kaggle/working/chest-xray-pneumonia/chest_xray/CLAHE/CLAHE_test/NORMAL/\"\n",
    "output_image_dir = \"/kaggle/working/chest-xray-pneumonia/chest_xray/resized-CLAHED-test/NORMAL/\"\n",
    "resize_images_in_directory(input_image_dir, output_image_dir)"
   ]
  },
  {
   "cell_type": "code",
   "execution_count": 23,
   "id": "c765689b",
   "metadata": {
    "execution": {
     "iopub.execute_input": "2025-02-28T14:29:09.539613Z",
     "iopub.status.busy": "2025-02-28T14:29:09.539208Z",
     "iopub.status.idle": "2025-02-28T14:29:13.939727Z",
     "shell.execute_reply": "2025-02-28T14:29:13.938605Z"
    },
    "papermill": {
     "duration": 4.413732,
     "end_time": "2025-02-28T14:29:13.941378",
     "exception": false,
     "start_time": "2025-02-28T14:29:09.527646",
     "status": "completed"
    },
    "tags": []
   },
   "outputs": [
    {
     "name": "stdout",
     "output_type": "stream",
     "text": [
      "İşlem tamamlandı: 390 görüntü yeniden boyutlandırıldı, 0 dosya atlandı.\n"
     ]
    }
   ],
   "source": [
    "from PIL import Image\n",
    "import os\n",
    "\n",
    "def resize_image(input_path, output_path, size=(224, 224)):\n",
    "    try:\n",
    "        # Görüntüyü aç\n",
    "        with Image.open(input_path) as img:\n",
    "            # Görüntüyü yeniden boyutlandır (LANCZOS kullanarak)\n",
    "            img = img.resize(size, Image.Resampling.LANCZOS)\n",
    "            # Yeniden boyutlandırılmış görüntüyü kaydet\n",
    "            img.save(output_path)\n",
    "    except Exception as e:\n",
    "        print(f\"Hata oluştu: {e}\")\n",
    "\n",
    "def resize_images_in_directory(input_dir, output_dir, size=(224, 224)):\n",
    "    # Eğer output dizini yoksa oluştur\n",
    "    if not os.path.exists(output_dir):\n",
    "        os.makedirs(output_dir)\n",
    "\n",
    "    # İşlenen dosya sayısını takip etmek için sayaç\n",
    "    processed_files = 0\n",
    "    skipped_files = 0\n",
    "\n",
    "    # Dizin içindeki tüm dosyaları listele\n",
    "    for filename in os.listdir(input_dir):\n",
    "        # Dosya yolunu oluştur\n",
    "        input_image_path = os.path.join(input_dir, filename)\n",
    "        output_image_path = os.path.join(output_dir, filename)\n",
    "\n",
    "        # Sadece geçerli görüntü dosyalarını işle (örneğin .jpg, .png)\n",
    "        if filename.lower().endswith(('.png', '.jpg', '.jpeg', '.bmp', '.gif')):\n",
    "            resize_image(input_image_path, output_image_path, size)\n",
    "            processed_files += 1\n",
    "        else:\n",
    "            skipped_files += 1\n",
    "\n",
    "    # İşlem tamamlandığında özet bilgi yazdır\n",
    "    print(f\"İşlem tamamlandı: {processed_files} görüntü yeniden boyutlandırıldı, {skipped_files} dosya atlandı.\")\n",
    "\n",
    "# Örnek kullanım\n",
    "input_image_dir = \"/kaggle/working/chest-xray-pneumonia/chest_xray/CLAHE/CLAHE_test/PNEUMONIA/\"\n",
    "output_image_dir = \"/kaggle/working/chest-xray-pneumonia/chest_xray/resized-CLAHED-test/PNEUMONIA/\"\n",
    "resize_images_in_directory(input_image_dir, output_image_dir)"
   ]
  },
  {
   "cell_type": "code",
   "execution_count": 24,
   "id": "44b743f9",
   "metadata": {
    "execution": {
     "iopub.execute_input": "2025-02-28T14:29:13.964187Z",
     "iopub.status.busy": "2025-02-28T14:29:13.963820Z",
     "iopub.status.idle": "2025-02-28T14:29:14.142727Z",
     "shell.execute_reply": "2025-02-28T14:29:14.141088Z"
    },
    "papermill": {
     "duration": 0.192985,
     "end_time": "2025-02-28T14:29:14.145069",
     "exception": false,
     "start_time": "2025-02-28T14:29:13.952084",
     "status": "completed"
    },
    "tags": []
   },
   "outputs": [
    {
     "name": "stdout",
     "output_type": "stream",
     "text": [
      "İşlem tamamlandı: 8 görüntü yeniden boyutlandırıldı, 0 dosya atlandı.\n"
     ]
    }
   ],
   "source": [
    "from PIL import Image\n",
    "import os\n",
    "\n",
    "def resize_image(input_path, output_path, size=(224, 224)):\n",
    "    try:\n",
    "        # Görüntüyü aç\n",
    "        with Image.open(input_path) as img:\n",
    "            # Görüntüyü yeniden boyutlandır (LANCZOS kullanarak)\n",
    "            img = img.resize(size, Image.Resampling.LANCZOS)\n",
    "            # Yeniden boyutlandırılmış görüntüyü kaydet\n",
    "            img.save(output_path)\n",
    "    except Exception as e:\n",
    "        print(f\"Hata oluştu: {e}\")\n",
    "\n",
    "def resize_images_in_directory(input_dir, output_dir, size=(224, 224)):\n",
    "    # Eğer output dizini yoksa oluştur\n",
    "    if not os.path.exists(output_dir):\n",
    "        os.makedirs(output_dir)\n",
    "\n",
    "    # İşlenen dosya sayısını takip etmek için sayaç\n",
    "    processed_files = 0\n",
    "    skipped_files = 0\n",
    "\n",
    "    # Dizin içindeki tüm dosyaları listele\n",
    "    for filename in os.listdir(input_dir):\n",
    "        # Dosya yolunu oluştur\n",
    "        input_image_path = os.path.join(input_dir, filename)\n",
    "        output_image_path = os.path.join(output_dir, filename)\n",
    "\n",
    "        # Sadece geçerli görüntü dosyalarını işle (örneğin .jpg, .png)\n",
    "        if filename.lower().endswith(('.png', '.jpg', '.jpeg', '.bmp', '.gif')):\n",
    "            resize_image(input_image_path, output_image_path, size)\n",
    "            processed_files += 1\n",
    "        else:\n",
    "            skipped_files += 1\n",
    "\n",
    "    # İşlem tamamlandığında özet bilgi yazdır\n",
    "    print(f\"İşlem tamamlandı: {processed_files} görüntü yeniden boyutlandırıldı, {skipped_files} dosya atlandı.\")\n",
    "\n",
    "# Örnek kullanım\n",
    "input_image_dir = \"/kaggle/working/chest-xray-pneumonia/chest_xray/CLAHE/CLAHE_val/NORMAL/\"\n",
    "output_image_dir = \"/kaggle/working/chest-xray-pneumonia/chest_xray/resized-CLAHED-val/NORMAL/\"\n",
    "resize_images_in_directory(input_image_dir, output_image_dir)"
   ]
  },
  {
   "cell_type": "code",
   "execution_count": 25,
   "id": "d3dc5c16",
   "metadata": {
    "execution": {
     "iopub.execute_input": "2025-02-28T14:29:14.182705Z",
     "iopub.status.busy": "2025-02-28T14:29:14.182217Z",
     "iopub.status.idle": "2025-02-28T14:29:14.292117Z",
     "shell.execute_reply": "2025-02-28T14:29:14.290834Z"
    },
    "papermill": {
     "duration": 0.132408,
     "end_time": "2025-02-28T14:29:14.293982",
     "exception": false,
     "start_time": "2025-02-28T14:29:14.161574",
     "status": "completed"
    },
    "tags": []
   },
   "outputs": [
    {
     "name": "stdout",
     "output_type": "stream",
     "text": [
      "İşlem tamamlandı: 8 görüntü yeniden boyutlandırıldı, 0 dosya atlandı.\n"
     ]
    }
   ],
   "source": [
    "from PIL import Image\n",
    "import os\n",
    "\n",
    "def resize_image(input_path, output_path, size=(224, 224)):\n",
    "    try:\n",
    "        # Görüntüyü aç\n",
    "        with Image.open(input_path) as img:\n",
    "            # Görüntüyü yeniden boyutlandır (LANCZOS kullanarak)\n",
    "            img = img.resize(size, Image.Resampling.LANCZOS)\n",
    "            # Yeniden boyutlandırılmış görüntüyü kaydet\n",
    "            img.save(output_path)\n",
    "    except Exception as e:\n",
    "        print(f\"Hata oluştu: {e}\")\n",
    "\n",
    "def resize_images_in_directory(input_dir, output_dir, size=(224, 224)):\n",
    "    # Eğer output dizini yoksa oluştur\n",
    "    if not os.path.exists(output_dir):\n",
    "        os.makedirs(output_dir)\n",
    "\n",
    "    # İşlenen dosya sayısını takip etmek için sayaç\n",
    "    processed_files = 0\n",
    "    skipped_files = 0\n",
    "\n",
    "    # Dizin içindeki tüm dosyaları listele\n",
    "    for filename in os.listdir(input_dir):\n",
    "        # Dosya yolunu oluştur\n",
    "        input_image_path = os.path.join(input_dir, filename)\n",
    "        output_image_path = os.path.join(output_dir, filename)\n",
    "\n",
    "        # Sadece geçerli görüntü dosyalarını işle (örneğin .jpg, .png)\n",
    "        if filename.lower().endswith(('.png', '.jpg', '.jpeg', '.bmp', '.gif')):\n",
    "            resize_image(input_image_path, output_image_path, size)\n",
    "            processed_files += 1\n",
    "        else:\n",
    "            skipped_files += 1\n",
    "\n",
    "    # İşlem tamamlandığında özet bilgi yazdır\n",
    "    print(f\"İşlem tamamlandı: {processed_files} görüntü yeniden boyutlandırıldı, {skipped_files} dosya atlandı.\")\n",
    "\n",
    "# Örnek kullanım\n",
    "input_image_dir = \"/kaggle/working/chest-xray-pneumonia/chest_xray/CLAHE/CLAHE_val/PNEUMONIA/\"\n",
    "output_image_dir = \"/kaggle/working/chest-xray-pneumonia/chest_xray/resized-CLAHED-val/PNEUMONIA/\"\n",
    "resize_images_in_directory(input_image_dir, output_image_dir)"
   ]
  },
  {
   "cell_type": "code",
   "execution_count": 26,
   "id": "d28f9ec8",
   "metadata": {
    "execution": {
     "iopub.execute_input": "2025-02-28T14:29:14.316916Z",
     "iopub.status.busy": "2025-02-28T14:29:14.316541Z",
     "iopub.status.idle": "2025-02-28T14:29:14.329561Z",
     "shell.execute_reply": "2025-02-28T14:29:14.328260Z"
    },
    "papermill": {
     "duration": 0.026498,
     "end_time": "2025-02-28T14:29:14.331355",
     "exception": false,
     "start_time": "2025-02-28T14:29:14.304857",
     "status": "completed"
    },
    "tags": []
   },
   "outputs": [
    {
     "name": "stdout",
     "output_type": "stream",
     "text": [
      "224x224\n",
      "224x224\n",
      "224x224\n",
      "224x224\n",
      "224x224\n",
      "224x224\n",
      "224x224\n",
      "224x224\n",
      "224x224\n",
      "224x224\n"
     ]
    }
   ],
   "source": [
    "import os\n",
    "import cv2\n",
    "import random\n",
    "\n",
    "# Görsellerin bulunduğu dizin\n",
    "input_dir = '/kaggle/working/chest-xray-pneumonia/chest_xray/resized-CLAHED-test/NORMAL/'  # Kendi dizininizi buraya girin\n",
    "\n",
    "# Dizindeki tüm görselleri al\n",
    "image_files = [f for f in os.listdir(input_dir) if f.endswith(('.jpg', '.jpeg', '.png', '.bmp'))]\n",
    "\n",
    "# Rastgele 10 görsel seç\n",
    "random_images = random.sample(image_files, 10)\n",
    "\n",
    "# Her bir görselin boyutlarını yazdır\n",
    "for image_file in random_images:\n",
    "    image_path = os.path.join(input_dir, image_file)\n",
    "    \n",
    "    # Görseli yükle\n",
    "    image = cv2.imread(image_path)\n",
    "    \n",
    "    # Görselin boyutlarını al (yükseklik, genişlik)\n",
    "    height, width = image.shape[:2]\n",
    "    \n",
    "    # Boyutları ekrana yazdır\n",
    "    print(f\"{height}x{width}\")"
   ]
  },
  {
   "cell_type": "markdown",
   "id": "371030a5",
   "metadata": {
    "papermill": {
     "duration": 0.010114,
     "end_time": "2025-02-28T14:29:14.352953",
     "exception": false,
     "start_time": "2025-02-28T14:29:14.342839",
     "status": "completed"
    },
    "tags": []
   },
   "source": [
    "**Veri setini indirme**"
   ]
  },
  {
   "cell_type": "code",
   "execution_count": 27,
   "id": "a2dcb65c",
   "metadata": {
    "execution": {
     "iopub.execute_input": "2025-02-28T14:29:14.375996Z",
     "iopub.status.busy": "2025-02-28T14:29:14.375648Z",
     "iopub.status.idle": "2025-02-28T14:32:06.782370Z",
     "shell.execute_reply": "2025-02-28T14:32:06.781026Z"
    },
    "papermill": {
     "duration": 172.431799,
     "end_time": "2025-02-28T14:32:06.795952",
     "exception": false,
     "start_time": "2025-02-28T14:29:14.364153",
     "status": "completed"
    },
    "tags": []
   },
   "outputs": [
    {
     "data": {
      "text/html": [
       "Path (<tt>/kaggle/working/chest_xray.zip</tt>) doesn't exist. It may still be in the process of being generated, or you may have the incorrect path."
      ],
      "text/plain": [
       "/kaggle/working/chest_xray.zip"
      ]
     },
     "execution_count": 27,
     "metadata": {},
     "output_type": "execute_result"
    }
   ],
   "source": [
    "import os\n",
    "import zipfile\n",
    "\n",
    "def zipdir(path, ziph):\n",
    "    # ziph is zipfile handle\n",
    "    for root, dirs, files in os.walk(path):\n",
    "        for file in files:\n",
    "            ziph.write(os.path.join(root, file), \n",
    "                       os.path.relpath(os.path.join(root, file), \n",
    "                                       os.path.join(path, '..')))\n",
    "\n",
    "# Klasör yolunu belirtin\n",
    "folder_path = '/kaggle/working/chest-xray-pneumonia'\n",
    "\n",
    "# ZIP dosyasının adını belirtin\n",
    "zipf = zipfile.ZipFile('/kaggle/working/chest_xray-pneumonia.zip', 'w', zipfile.ZIP_DEFLATED)\n",
    "\n",
    "# Klasörü ZIP'e ekleyin\n",
    "zipdir(folder_path, zipf)\n",
    "\n",
    "# ZIP dosyasını kapatın\n",
    "zipf.close()\n",
    "\n",
    "# ZIP dosyasını indirin\n",
    "from IPython.display import FileLink\n",
    "FileLink('/kaggle/working/chest_xray.zip')"
   ]
  }
 ],
 "metadata": {
  "kaggle": {
   "accelerator": "none",
   "dataSources": [
    {
     "datasetId": 17810,
     "sourceId": 23812,
     "sourceType": "datasetVersion"
    }
   ],
   "dockerImageVersionId": 30919,
   "isGpuEnabled": false,
   "isInternetEnabled": true,
   "language": "python",
   "sourceType": "notebook"
  },
  "kernelspec": {
   "display_name": "Python 3",
   "language": "python",
   "name": "python3"
  },
  "language_info": {
   "codemirror_mode": {
    "name": "ipython",
    "version": 3
   },
   "file_extension": ".py",
   "mimetype": "text/x-python",
   "name": "python",
   "nbconvert_exporter": "python",
   "pygments_lexer": "ipython3",
   "version": "3.10.12"
  },
  "papermill": {
   "default_parameters": {},
   "duration": 1899.057396,
   "end_time": "2025-02-28T14:32:08.637161",
   "environment_variables": {},
   "exception": null,
   "input_path": "__notebook__.ipynb",
   "output_path": "__notebook__.ipynb",
   "parameters": {},
   "start_time": "2025-02-28T14:00:29.579765",
   "version": "2.6.0"
  }
 },
 "nbformat": 4,
 "nbformat_minor": 5
}
